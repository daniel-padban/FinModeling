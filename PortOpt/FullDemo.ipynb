{
 "cells": [
  {
   "cell_type": "markdown",
   "metadata": {},
   "source": [
    "### Import code and external modules"
   ]
  },
  {
   "cell_type": "code",
   "execution_count": 3,
   "metadata": {},
   "outputs": [],
   "source": [
    "from datetime import date, timedelta\n",
    "import yfinance as yf\n",
    "\n",
    "from LSTM.lstmPredictor import LSTMPredictor\n",
    "from LSTM.pfTrainer import pfLSTMTrainer\n",
    "\n",
    "from CovMat.optimizer import WeightOptimizer\n",
    "from CovMat.cov_matrix import MPTCovMat\n",
    "from CovMat.JSONReader import read_json\n",
    "from CovMat.backtesting import BackTester\n",
    "\n"
   ]
  },
  {
   "cell_type": "markdown",
   "metadata": {},
   "source": [
    "### Set parameters"
   ]
  },
  {
   "cell_type": "code",
   "execution_count": 1,
   "metadata": {},
   "outputs": [
    {
     "ename": "NameError",
     "evalue": "name 'train_start' is not defined",
     "output_type": "error",
     "traceback": [
      "\u001b[0;31m---------------------------------------------------------------------------\u001b[0m",
      "\u001b[0;31mNameError\u001b[0m                                 Traceback (most recent call last)",
      "Cell \u001b[0;32mIn[1], line 1\u001b[0m\n\u001b[0;32m----> 1\u001b[0m \u001b[43mtrain_start\u001b[49m\n",
      "\u001b[0;31mNameError\u001b[0m: name 'train_start' is not defined"
     ]
    }
   ],
   "source": [
    "train_range = tuple(date(2020,1,1), date(2020,12,31)) \n",
    "test_range = tuple(date(2021,1,1), date(2021,12,31)) #used to train lstm\n",
    "eval_range= tuple(date(2022,1,1), date(2022,12,31)) #to evaluate PF performance\n",
    "\n",
    "#Target (risk free)\n",
    "rf = 0.027\n",
    "rf_period = timedelta(120)\n",
    "\n",
    "#Portfolio goals\n",
    "alpha = 0.2 #calmar\n",
    "beta = 0.3 #omega\n",
    "gamma = 0.5 #sortino\n",
    "\n",
    "lr_lstm = 1e-3\n",
    "lr_alloc = 1e-2\n",
    "epochs = 10 #training epochs for lstm\n",
    "num_iter = 10000 #weight updates for allocator\n",
    "\n",
    "tickers_json_path = 'LSTM/omxs30.json' #path where json file with ticker names is located\n",
    "comp_ticker = '^OMX'"
   ]
  },
  {
   "cell_type": "markdown",
   "metadata": {},
   "source": [
    "### Initialize objects"
   ]
  },
  {
   "cell_type": "code",
   "execution_count": null,
   "metadata": {},
   "outputs": [],
   "source": [
    "ticker_list = read_json(tickers_json_path)\n",
    "tickers = yf.Tickers(ticker_list)\n",
    "comp_df = yf.Ticker(comp_ticker).history(start=test_range[0],end=test_range[1],auto_adjust=True,repair=True)"
   ]
  },
  {
   "cell_type": "code",
   "execution_count": null,
   "metadata": {},
   "outputs": [],
   "source": [
    "allocator = WeightOptimizer(num_iter=num_iter,lr=lr_alloc,num_assets=len(ticker_list),risk_free=rf,risk_free_period=rf_period)\n",
    "lstm_model = LSTMPredictor(len(ticker_list),300,len(ticker_list),n_layers=3,)\n",
    "lstm_trainer = pfLSTMTrainer(lstm_model,allocator,tickers,train_range,test_range,lr_lstm)"
   ]
  },
  {
   "cell_type": "markdown",
   "metadata": {},
   "source": [
    "### Optimize weights"
   ]
  },
  {
   "cell_type": "code",
   "execution_count": null,
   "metadata": {},
   "outputs": [],
   "source": [
    "for epoch in epochs:\n",
    "    lstm_trainer.optimize_weights(alpha,beta,gamma)\n",
    "    lstm_trainer.train_lstm(comp_df=comp_df)\n",
    "\n",
    "trained_lstm = lstm_trainer.model"
   ]
  }
 ],
 "metadata": {
  "kernelspec": {
   "display_name": "IRB-venv",
   "language": "python",
   "name": "python3"
  },
  "language_info": {
   "codemirror_mode": {
    "name": "ipython",
    "version": 3
   },
   "file_extension": ".py",
   "mimetype": "text/x-python",
   "name": "python",
   "nbconvert_exporter": "python",
   "pygments_lexer": "ipython3",
   "version": "3.12.2"
  }
 },
 "nbformat": 4,
 "nbformat_minor": 2
}
